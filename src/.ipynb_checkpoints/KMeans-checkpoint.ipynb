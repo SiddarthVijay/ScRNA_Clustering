{
 "cells": [
  {
   "cell_type": "code",
   "execution_count": 1,
   "metadata": {
    "colab": {
     "base_uri": "https://localhost:8080/",
     "height": 471
    },
    "colab_type": "code",
    "id": "WQI7KHisdEwT",
    "outputId": "22b0834c-1fab-4f72-d6bc-42b6d65199cd"
   },
   "outputs": [
    {
     "name": "stdout",
     "output_type": "stream",
     "text": [
      "Collecting pyensembl\n",
      "\u001b[33m  Cache entry deserialization failed, entry ignored\u001b[0m\n",
      "Collecting tinytimer (from pyensembl)\n",
      "\u001b[33m  Cache entry deserialization failed, entry ignored\u001b[0m\n",
      "Collecting gtfparse>=1.1.0 (from pyensembl)\n",
      "\u001b[33m  Cache entry deserialization failed, entry ignored\u001b[0m\n",
      "Collecting pandas>=0.15 (from pyensembl)\n",
      "^C\n",
      "\u001b[31mOperation cancelled by user\u001b[0m\n",
      "2020-05-19 12:08:08,460 - pyensembl.shell - INFO - Running 'install' for EnsemblRelease(release=99, species='mus_musculus')\n",
      "2020-05-19 12:08:08,839 - pyensembl.sequence_data - INFO - Loaded sequence dictionary from /home/siddarth/.cache/pyensembl/GRCm38/ensembl99/Mus_musculus.GRCm38.cdna.all.fa.gz.pickle\n",
      "2020-05-19 12:08:08,887 - pyensembl.sequence_data - INFO - Loaded sequence dictionary from /home/siddarth/.cache/pyensembl/GRCm38/ensembl99/Mus_musculus.GRCm38.ncrna.fa.gz.pickle\n",
      "2020-05-19 12:08:08,981 - pyensembl.sequence_data - INFO - Loaded sequence dictionary from /home/siddarth/.cache/pyensembl/GRCm38/ensembl99/Mus_musculus.GRCm38.pep.all.fa.gz.pickle\n"
     ]
    }
   ],
   "source": [
    "!pip3 install pyensembl\n",
    "!pyensembl install --release 99 --species mus_musculus\n"
   ]
  },
  {
   "cell_type": "code",
   "execution_count": 1,
   "metadata": {
    "colab": {},
    "colab_type": "code",
    "id": "0cAGgj0mdKcN"
   },
   "outputs": [],
   "source": [
    "import numpy as np\n",
    "import pandas as pd\n",
    "from sklearn.cluster import KMeans\n",
    "%matplotlib inline\n",
    "import matplotlib.pyplot as plt\n",
    "import seaborn as sns; sns.set()\n",
    "from pyensembl import EnsemblRelease"
   ]
  },
  {
   "cell_type": "code",
   "execution_count": 2,
   "metadata": {
    "colab": {
     "base_uri": "https://localhost:8080/",
     "height": 34
    },
    "colab_type": "code",
    "id": "6GVs8gOFeqGV",
    "outputId": "7c53dd30-de1f-4144-b359-68056a741fe8"
   },
   "outputs": [],
   "source": [
    "#from google.colab import drive\n",
    "#drive.mount('/content/drive')"
   ]
  },
  {
   "cell_type": "code",
   "execution_count": 3,
   "metadata": {
    "colab": {},
    "colab_type": "code",
    "id": "nY80EgjrdEwo"
   },
   "outputs": [],
   "source": [
    "# dataFilePath = \"/content/drive/My Drive/ScRNA_data/GSE109262_ESC_RNA_counts.txt\"\n",
    "#dataFilePath = \"../data/GSE109262_ESC_RNA_counts.txt\"\n",
    "dataFilePath = \"../data/removed_zero_expression_genes.csv\""
   ]
  },
  {
   "cell_type": "code",
   "execution_count": 4,
   "metadata": {
    "colab": {},
    "colab_type": "code",
    "id": "f1TbWosPdEw1"
   },
   "outputs": [],
   "source": [
    "#df = pd.read_csv(dataFilePath,sep='\\t')\n",
    "df = pd.read_csv(dataFilePath,sep=',')"
   ]
  },
  {
   "cell_type": "code",
   "execution_count": 5,
   "metadata": {
    "colab": {
     "base_uri": "https://localhost:8080/",
     "height": 726
    },
    "colab_type": "code",
    "id": "kC35dKVGdEw-",
    "outputId": "4e4eea88-dcdf-4c6a-bfb6-dacbdcf9fe72"
   },
   "outputs": [
    {
     "data": {
      "text/html": [
       "<div>\n",
       "<style scoped>\n",
       "    .dataframe tbody tr th:only-of-type {\n",
       "        vertical-align: middle;\n",
       "    }\n",
       "\n",
       "    .dataframe tbody tr th {\n",
       "        vertical-align: top;\n",
       "    }\n",
       "\n",
       "    .dataframe thead th {\n",
       "        text-align: right;\n",
       "    }\n",
       "</style>\n",
       "<table border=\"1\" class=\"dataframe\">\n",
       "  <thead>\n",
       "    <tr style=\"text-align: right;\">\n",
       "      <th></th>\n",
       "      <th>ESC_ens_id</th>\n",
       "      <th>ESC_A01</th>\n",
       "      <th>ESC_A02</th>\n",
       "      <th>ESC_A03</th>\n",
       "      <th>ESC_A04</th>\n",
       "      <th>ESC_A05</th>\n",
       "      <th>ESC_A06</th>\n",
       "      <th>ESC_A07</th>\n",
       "      <th>ESC_A08</th>\n",
       "      <th>ESC_A09</th>\n",
       "      <th>...</th>\n",
       "      <th>ESC_H01</th>\n",
       "      <th>ESC_H02</th>\n",
       "      <th>ESC_H03</th>\n",
       "      <th>ESC_H04</th>\n",
       "      <th>ESC_H05</th>\n",
       "      <th>ESC_H06</th>\n",
       "      <th>ESC_H07</th>\n",
       "      <th>ESC_H08</th>\n",
       "      <th>ESC_H09</th>\n",
       "      <th>ESC_H10</th>\n",
       "    </tr>\n",
       "  </thead>\n",
       "  <tbody>\n",
       "    <tr>\n",
       "      <th>0</th>\n",
       "      <td>ENSMUSG00000025902</td>\n",
       "      <td>0</td>\n",
       "      <td>0</td>\n",
       "      <td>0</td>\n",
       "      <td>0</td>\n",
       "      <td>0</td>\n",
       "      <td>0</td>\n",
       "      <td>0</td>\n",
       "      <td>0</td>\n",
       "      <td>0</td>\n",
       "      <td>...</td>\n",
       "      <td>0</td>\n",
       "      <td>0</td>\n",
       "      <td>0</td>\n",
       "      <td>0</td>\n",
       "      <td>0</td>\n",
       "      <td>0</td>\n",
       "      <td>0</td>\n",
       "      <td>0</td>\n",
       "      <td>0</td>\n",
       "      <td>0</td>\n",
       "    </tr>\n",
       "    <tr>\n",
       "      <th>1</th>\n",
       "      <td>ENSMUSG00000033845</td>\n",
       "      <td>0</td>\n",
       "      <td>653</td>\n",
       "      <td>246</td>\n",
       "      <td>297</td>\n",
       "      <td>464</td>\n",
       "      <td>277</td>\n",
       "      <td>548</td>\n",
       "      <td>346</td>\n",
       "      <td>838</td>\n",
       "      <td>...</td>\n",
       "      <td>0</td>\n",
       "      <td>130</td>\n",
       "      <td>703</td>\n",
       "      <td>407</td>\n",
       "      <td>1069</td>\n",
       "      <td>1081</td>\n",
       "      <td>240</td>\n",
       "      <td>494</td>\n",
       "      <td>619</td>\n",
       "      <td>368</td>\n",
       "    </tr>\n",
       "    <tr>\n",
       "      <th>2</th>\n",
       "      <td>ENSMUSG00000025903</td>\n",
       "      <td>0</td>\n",
       "      <td>481</td>\n",
       "      <td>261</td>\n",
       "      <td>181</td>\n",
       "      <td>118</td>\n",
       "      <td>320</td>\n",
       "      <td>352</td>\n",
       "      <td>280</td>\n",
       "      <td>560</td>\n",
       "      <td>...</td>\n",
       "      <td>0</td>\n",
       "      <td>113</td>\n",
       "      <td>255</td>\n",
       "      <td>171</td>\n",
       "      <td>767</td>\n",
       "      <td>125</td>\n",
       "      <td>213</td>\n",
       "      <td>157</td>\n",
       "      <td>690</td>\n",
       "      <td>132</td>\n",
       "    </tr>\n",
       "    <tr>\n",
       "      <th>3</th>\n",
       "      <td>ENSMUSG00000033813</td>\n",
       "      <td>0</td>\n",
       "      <td>513</td>\n",
       "      <td>670</td>\n",
       "      <td>269</td>\n",
       "      <td>180</td>\n",
       "      <td>103</td>\n",
       "      <td>171</td>\n",
       "      <td>233</td>\n",
       "      <td>72</td>\n",
       "      <td>...</td>\n",
       "      <td>0</td>\n",
       "      <td>108</td>\n",
       "      <td>244</td>\n",
       "      <td>310</td>\n",
       "      <td>505</td>\n",
       "      <td>921</td>\n",
       "      <td>74</td>\n",
       "      <td>605</td>\n",
       "      <td>324</td>\n",
       "      <td>84</td>\n",
       "    </tr>\n",
       "    <tr>\n",
       "      <th>4</th>\n",
       "      <td>ENSMUSG00000002459</td>\n",
       "      <td>0</td>\n",
       "      <td>0</td>\n",
       "      <td>0</td>\n",
       "      <td>0</td>\n",
       "      <td>0</td>\n",
       "      <td>0</td>\n",
       "      <td>0</td>\n",
       "      <td>0</td>\n",
       "      <td>0</td>\n",
       "      <td>...</td>\n",
       "      <td>0</td>\n",
       "      <td>0</td>\n",
       "      <td>0</td>\n",
       "      <td>0</td>\n",
       "      <td>0</td>\n",
       "      <td>0</td>\n",
       "      <td>0</td>\n",
       "      <td>0</td>\n",
       "      <td>0</td>\n",
       "      <td>0</td>\n",
       "    </tr>\n",
       "    <tr>\n",
       "      <th>5</th>\n",
       "      <td>ENSMUSG00000033793</td>\n",
       "      <td>0</td>\n",
       "      <td>405</td>\n",
       "      <td>941</td>\n",
       "      <td>190</td>\n",
       "      <td>148</td>\n",
       "      <td>157</td>\n",
       "      <td>231</td>\n",
       "      <td>326</td>\n",
       "      <td>141</td>\n",
       "      <td>...</td>\n",
       "      <td>0</td>\n",
       "      <td>110</td>\n",
       "      <td>139</td>\n",
       "      <td>0</td>\n",
       "      <td>654</td>\n",
       "      <td>1350</td>\n",
       "      <td>60</td>\n",
       "      <td>452</td>\n",
       "      <td>813</td>\n",
       "      <td>198</td>\n",
       "    </tr>\n",
       "    <tr>\n",
       "      <th>6</th>\n",
       "      <td>ENSMUSG00000025905</td>\n",
       "      <td>0</td>\n",
       "      <td>0</td>\n",
       "      <td>0</td>\n",
       "      <td>0</td>\n",
       "      <td>0</td>\n",
       "      <td>0</td>\n",
       "      <td>0</td>\n",
       "      <td>0</td>\n",
       "      <td>0</td>\n",
       "      <td>...</td>\n",
       "      <td>0</td>\n",
       "      <td>0</td>\n",
       "      <td>0</td>\n",
       "      <td>0</td>\n",
       "      <td>0</td>\n",
       "      <td>0</td>\n",
       "      <td>0</td>\n",
       "      <td>0</td>\n",
       "      <td>0</td>\n",
       "      <td>0</td>\n",
       "    </tr>\n",
       "    <tr>\n",
       "      <th>7</th>\n",
       "      <td>ENSMUSG00000025907</td>\n",
       "      <td>0</td>\n",
       "      <td>469</td>\n",
       "      <td>166</td>\n",
       "      <td>66</td>\n",
       "      <td>64</td>\n",
       "      <td>0</td>\n",
       "      <td>0</td>\n",
       "      <td>51</td>\n",
       "      <td>126</td>\n",
       "      <td>...</td>\n",
       "      <td>0</td>\n",
       "      <td>28</td>\n",
       "      <td>47</td>\n",
       "      <td>131</td>\n",
       "      <td>0</td>\n",
       "      <td>751</td>\n",
       "      <td>29</td>\n",
       "      <td>162</td>\n",
       "      <td>56</td>\n",
       "      <td>54</td>\n",
       "    </tr>\n",
       "    <tr>\n",
       "      <th>8</th>\n",
       "      <td>ENSMUSG00000087247</td>\n",
       "      <td>0</td>\n",
       "      <td>0</td>\n",
       "      <td>0</td>\n",
       "      <td>0</td>\n",
       "      <td>0</td>\n",
       "      <td>0</td>\n",
       "      <td>0</td>\n",
       "      <td>0</td>\n",
       "      <td>0</td>\n",
       "      <td>...</td>\n",
       "      <td>0</td>\n",
       "      <td>0</td>\n",
       "      <td>0</td>\n",
       "      <td>0</td>\n",
       "      <td>0</td>\n",
       "      <td>0</td>\n",
       "      <td>0</td>\n",
       "      <td>0</td>\n",
       "      <td>0</td>\n",
       "      <td>0</td>\n",
       "    </tr>\n",
       "    <tr>\n",
       "      <th>9</th>\n",
       "      <td>ENSMUSG00000051285</td>\n",
       "      <td>0</td>\n",
       "      <td>36</td>\n",
       "      <td>219</td>\n",
       "      <td>78</td>\n",
       "      <td>1</td>\n",
       "      <td>2</td>\n",
       "      <td>0</td>\n",
       "      <td>25</td>\n",
       "      <td>73</td>\n",
       "      <td>...</td>\n",
       "      <td>0</td>\n",
       "      <td>24</td>\n",
       "      <td>14</td>\n",
       "      <td>64</td>\n",
       "      <td>50</td>\n",
       "      <td>382</td>\n",
       "      <td>16</td>\n",
       "      <td>23</td>\n",
       "      <td>13</td>\n",
       "      <td>29</td>\n",
       "    </tr>\n",
       "    <tr>\n",
       "      <th>10</th>\n",
       "      <td>ENSMUSG00000025909</td>\n",
       "      <td>0</td>\n",
       "      <td>0</td>\n",
       "      <td>0</td>\n",
       "      <td>0</td>\n",
       "      <td>0</td>\n",
       "      <td>0</td>\n",
       "      <td>0</td>\n",
       "      <td>0</td>\n",
       "      <td>0</td>\n",
       "      <td>...</td>\n",
       "      <td>0</td>\n",
       "      <td>0</td>\n",
       "      <td>0</td>\n",
       "      <td>0</td>\n",
       "      <td>0</td>\n",
       "      <td>0</td>\n",
       "      <td>0</td>\n",
       "      <td>0</td>\n",
       "      <td>0</td>\n",
       "      <td>0</td>\n",
       "    </tr>\n",
       "    <tr>\n",
       "      <th>11</th>\n",
       "      <td>ENSMUSG00000061024</td>\n",
       "      <td>0</td>\n",
       "      <td>54</td>\n",
       "      <td>79</td>\n",
       "      <td>79</td>\n",
       "      <td>131</td>\n",
       "      <td>39</td>\n",
       "      <td>59</td>\n",
       "      <td>40</td>\n",
       "      <td>81</td>\n",
       "      <td>...</td>\n",
       "      <td>1</td>\n",
       "      <td>23</td>\n",
       "      <td>190</td>\n",
       "      <td>13</td>\n",
       "      <td>95</td>\n",
       "      <td>289</td>\n",
       "      <td>42</td>\n",
       "      <td>103</td>\n",
       "      <td>80</td>\n",
       "      <td>98</td>\n",
       "    </tr>\n",
       "    <tr>\n",
       "      <th>12</th>\n",
       "      <td>ENSMUSG00000025911</td>\n",
       "      <td>0</td>\n",
       "      <td>23</td>\n",
       "      <td>1</td>\n",
       "      <td>3</td>\n",
       "      <td>0</td>\n",
       "      <td>0</td>\n",
       "      <td>0</td>\n",
       "      <td>0</td>\n",
       "      <td>0</td>\n",
       "      <td>...</td>\n",
       "      <td>0</td>\n",
       "      <td>0</td>\n",
       "      <td>0</td>\n",
       "      <td>0</td>\n",
       "      <td>0</td>\n",
       "      <td>0</td>\n",
       "      <td>0</td>\n",
       "      <td>0</td>\n",
       "      <td>10</td>\n",
       "      <td>0</td>\n",
       "    </tr>\n",
       "    <tr>\n",
       "      <th>13</th>\n",
       "      <td>ENSMUSG00000025912</td>\n",
       "      <td>0</td>\n",
       "      <td>171</td>\n",
       "      <td>44</td>\n",
       "      <td>31</td>\n",
       "      <td>3</td>\n",
       "      <td>12</td>\n",
       "      <td>0</td>\n",
       "      <td>11</td>\n",
       "      <td>0</td>\n",
       "      <td>...</td>\n",
       "      <td>0</td>\n",
       "      <td>1</td>\n",
       "      <td>36</td>\n",
       "      <td>4</td>\n",
       "      <td>0</td>\n",
       "      <td>4</td>\n",
       "      <td>0</td>\n",
       "      <td>13</td>\n",
       "      <td>3</td>\n",
       "      <td>3</td>\n",
       "    </tr>\n",
       "    <tr>\n",
       "      <th>14</th>\n",
       "      <td>ENSMUSG00000045210</td>\n",
       "      <td>0</td>\n",
       "      <td>76</td>\n",
       "      <td>152</td>\n",
       "      <td>51</td>\n",
       "      <td>8</td>\n",
       "      <td>38</td>\n",
       "      <td>310</td>\n",
       "      <td>51</td>\n",
       "      <td>24</td>\n",
       "      <td>...</td>\n",
       "      <td>0</td>\n",
       "      <td>159</td>\n",
       "      <td>223</td>\n",
       "      <td>0</td>\n",
       "      <td>204</td>\n",
       "      <td>273</td>\n",
       "      <td>34</td>\n",
       "      <td>59</td>\n",
       "      <td>21</td>\n",
       "      <td>94</td>\n",
       "    </tr>\n",
       "    <tr>\n",
       "      <th>15</th>\n",
       "      <td>ENSMUSG00000025915</td>\n",
       "      <td>0</td>\n",
       "      <td>44</td>\n",
       "      <td>0</td>\n",
       "      <td>25</td>\n",
       "      <td>0</td>\n",
       "      <td>7</td>\n",
       "      <td>0</td>\n",
       "      <td>42</td>\n",
       "      <td>1</td>\n",
       "      <td>...</td>\n",
       "      <td>0</td>\n",
       "      <td>1</td>\n",
       "      <td>110</td>\n",
       "      <td>28</td>\n",
       "      <td>142</td>\n",
       "      <td>84</td>\n",
       "      <td>0</td>\n",
       "      <td>0</td>\n",
       "      <td>9</td>\n",
       "      <td>0</td>\n",
       "    </tr>\n",
       "    <tr>\n",
       "      <th>16</th>\n",
       "      <td>ENSMUSG00000046101</td>\n",
       "      <td>0</td>\n",
       "      <td>56</td>\n",
       "      <td>12</td>\n",
       "      <td>3</td>\n",
       "      <td>19</td>\n",
       "      <td>11</td>\n",
       "      <td>37</td>\n",
       "      <td>59</td>\n",
       "      <td>16</td>\n",
       "      <td>...</td>\n",
       "      <td>0</td>\n",
       "      <td>7</td>\n",
       "      <td>32</td>\n",
       "      <td>30</td>\n",
       "      <td>12</td>\n",
       "      <td>7</td>\n",
       "      <td>5</td>\n",
       "      <td>65</td>\n",
       "      <td>123</td>\n",
       "      <td>3</td>\n",
       "    </tr>\n",
       "    <tr>\n",
       "      <th>17</th>\n",
       "      <td>ENSMUSG00000099032</td>\n",
       "      <td>0</td>\n",
       "      <td>0</td>\n",
       "      <td>0</td>\n",
       "      <td>0</td>\n",
       "      <td>0</td>\n",
       "      <td>0</td>\n",
       "      <td>0</td>\n",
       "      <td>0</td>\n",
       "      <td>0</td>\n",
       "      <td>...</td>\n",
       "      <td>0</td>\n",
       "      <td>0</td>\n",
       "      <td>6</td>\n",
       "      <td>0</td>\n",
       "      <td>0</td>\n",
       "      <td>0</td>\n",
       "      <td>0</td>\n",
       "      <td>82</td>\n",
       "      <td>0</td>\n",
       "      <td>0</td>\n",
       "    </tr>\n",
       "    <tr>\n",
       "      <th>18</th>\n",
       "      <td>ENSMUSG00000025916</td>\n",
       "      <td>0</td>\n",
       "      <td>0</td>\n",
       "      <td>0</td>\n",
       "      <td>3</td>\n",
       "      <td>0</td>\n",
       "      <td>0</td>\n",
       "      <td>0</td>\n",
       "      <td>0</td>\n",
       "      <td>0</td>\n",
       "      <td>...</td>\n",
       "      <td>0</td>\n",
       "      <td>0</td>\n",
       "      <td>0</td>\n",
       "      <td>0</td>\n",
       "      <td>0</td>\n",
       "      <td>0</td>\n",
       "      <td>0</td>\n",
       "      <td>0</td>\n",
       "      <td>0</td>\n",
       "      <td>0</td>\n",
       "    </tr>\n",
       "    <tr>\n",
       "      <th>19</th>\n",
       "      <td>ENSMUSG00000025917</td>\n",
       "      <td>0</td>\n",
       "      <td>563</td>\n",
       "      <td>194</td>\n",
       "      <td>123</td>\n",
       "      <td>223</td>\n",
       "      <td>229</td>\n",
       "      <td>401</td>\n",
       "      <td>219</td>\n",
       "      <td>345</td>\n",
       "      <td>...</td>\n",
       "      <td>0</td>\n",
       "      <td>94</td>\n",
       "      <td>744</td>\n",
       "      <td>186</td>\n",
       "      <td>593</td>\n",
       "      <td>504</td>\n",
       "      <td>57</td>\n",
       "      <td>363</td>\n",
       "      <td>159</td>\n",
       "      <td>191</td>\n",
       "    </tr>\n",
       "  </tbody>\n",
       "</table>\n",
       "<p>20 rows × 81 columns</p>\n",
       "</div>"
      ],
      "text/plain": [
       "            ESC_ens_id  ESC_A01  ESC_A02  ESC_A03  ESC_A04  ESC_A05  ESC_A06  \\\n",
       "0   ENSMUSG00000025902        0        0        0        0        0        0   \n",
       "1   ENSMUSG00000033845        0      653      246      297      464      277   \n",
       "2   ENSMUSG00000025903        0      481      261      181      118      320   \n",
       "3   ENSMUSG00000033813        0      513      670      269      180      103   \n",
       "4   ENSMUSG00000002459        0        0        0        0        0        0   \n",
       "5   ENSMUSG00000033793        0      405      941      190      148      157   \n",
       "6   ENSMUSG00000025905        0        0        0        0        0        0   \n",
       "7   ENSMUSG00000025907        0      469      166       66       64        0   \n",
       "8   ENSMUSG00000087247        0        0        0        0        0        0   \n",
       "9   ENSMUSG00000051285        0       36      219       78        1        2   \n",
       "10  ENSMUSG00000025909        0        0        0        0        0        0   \n",
       "11  ENSMUSG00000061024        0       54       79       79      131       39   \n",
       "12  ENSMUSG00000025911        0       23        1        3        0        0   \n",
       "13  ENSMUSG00000025912        0      171       44       31        3       12   \n",
       "14  ENSMUSG00000045210        0       76      152       51        8       38   \n",
       "15  ENSMUSG00000025915        0       44        0       25        0        7   \n",
       "16  ENSMUSG00000046101        0       56       12        3       19       11   \n",
       "17  ENSMUSG00000099032        0        0        0        0        0        0   \n",
       "18  ENSMUSG00000025916        0        0        0        3        0        0   \n",
       "19  ENSMUSG00000025917        0      563      194      123      223      229   \n",
       "\n",
       "    ESC_A07  ESC_A08  ESC_A09  ...  ESC_H01  ESC_H02  ESC_H03  ESC_H04  \\\n",
       "0         0        0        0  ...        0        0        0        0   \n",
       "1       548      346      838  ...        0      130      703      407   \n",
       "2       352      280      560  ...        0      113      255      171   \n",
       "3       171      233       72  ...        0      108      244      310   \n",
       "4         0        0        0  ...        0        0        0        0   \n",
       "5       231      326      141  ...        0      110      139        0   \n",
       "6         0        0        0  ...        0        0        0        0   \n",
       "7         0       51      126  ...        0       28       47      131   \n",
       "8         0        0        0  ...        0        0        0        0   \n",
       "9         0       25       73  ...        0       24       14       64   \n",
       "10        0        0        0  ...        0        0        0        0   \n",
       "11       59       40       81  ...        1       23      190       13   \n",
       "12        0        0        0  ...        0        0        0        0   \n",
       "13        0       11        0  ...        0        1       36        4   \n",
       "14      310       51       24  ...        0      159      223        0   \n",
       "15        0       42        1  ...        0        1      110       28   \n",
       "16       37       59       16  ...        0        7       32       30   \n",
       "17        0        0        0  ...        0        0        6        0   \n",
       "18        0        0        0  ...        0        0        0        0   \n",
       "19      401      219      345  ...        0       94      744      186   \n",
       "\n",
       "    ESC_H05  ESC_H06  ESC_H07  ESC_H08  ESC_H09  ESC_H10  \n",
       "0         0        0        0        0        0        0  \n",
       "1      1069     1081      240      494      619      368  \n",
       "2       767      125      213      157      690      132  \n",
       "3       505      921       74      605      324       84  \n",
       "4         0        0        0        0        0        0  \n",
       "5       654     1350       60      452      813      198  \n",
       "6         0        0        0        0        0        0  \n",
       "7         0      751       29      162       56       54  \n",
       "8         0        0        0        0        0        0  \n",
       "9        50      382       16       23       13       29  \n",
       "10        0        0        0        0        0        0  \n",
       "11       95      289       42      103       80       98  \n",
       "12        0        0        0        0       10        0  \n",
       "13        0        4        0       13        3        3  \n",
       "14      204      273       34       59       21       94  \n",
       "15      142       84        0        0        9        0  \n",
       "16       12        7        5       65      123        3  \n",
       "17        0        0        0       82        0        0  \n",
       "18        0        0        0        0        0        0  \n",
       "19      593      504       57      363      159      191  \n",
       "\n",
       "[20 rows x 81 columns]"
      ]
     },
     "execution_count": 5,
     "metadata": {},
     "output_type": "execute_result"
    }
   ],
   "source": [
    "df.head(20)"
   ]
  },
  {
   "cell_type": "code",
   "execution_count": 6,
   "metadata": {
    "colab": {},
    "colab_type": "code",
    "id": "yiJbXr0bdExH"
   },
   "outputs": [],
   "source": [
    "df_ids = df['ESC_ens_id']"
   ]
  },
  {
   "cell_type": "code",
   "execution_count": 7,
   "metadata": {
    "colab": {
     "base_uri": "https://localhost:8080/",
     "height": 382
    },
    "colab_type": "code",
    "id": "mtH4HoysdExP",
    "outputId": "dd92060f-13b9-4507-a69f-31002e1f9c2c"
   },
   "outputs": [
    {
     "data": {
      "text/plain": [
       "0     ENSMUSG00000025902\n",
       "1     ENSMUSG00000033845\n",
       "2     ENSMUSG00000025903\n",
       "3     ENSMUSG00000033813\n",
       "4     ENSMUSG00000002459\n",
       "5     ENSMUSG00000033793\n",
       "6     ENSMUSG00000025905\n",
       "7     ENSMUSG00000025907\n",
       "8     ENSMUSG00000087247\n",
       "9     ENSMUSG00000051285\n",
       "10    ENSMUSG00000025909\n",
       "11    ENSMUSG00000061024\n",
       "12    ENSMUSG00000025911\n",
       "13    ENSMUSG00000025912\n",
       "14    ENSMUSG00000045210\n",
       "15    ENSMUSG00000025915\n",
       "16    ENSMUSG00000046101\n",
       "17    ENSMUSG00000099032\n",
       "18    ENSMUSG00000025916\n",
       "19    ENSMUSG00000025917\n",
       "Name: ESC_ens_id, dtype: object"
      ]
     },
     "execution_count": 7,
     "metadata": {},
     "output_type": "execute_result"
    }
   ],
   "source": [
    "df_ids.head(20)"
   ]
  },
  {
   "cell_type": "code",
   "execution_count": 8,
   "metadata": {
    "colab": {},
    "colab_type": "code",
    "id": "G8fWDaMcdExX"
   },
   "outputs": [],
   "source": [
    "ensembl = EnsemblRelease(species=\"mouse\")"
   ]
  },
  {
   "cell_type": "code",
   "execution_count": 9,
   "metadata": {
    "colab": {},
    "colab_type": "code",
    "id": "Sg4dadR7dExe"
   },
   "outputs": [],
   "source": [
    "def rpkm(counts, lengths):\n",
    "    \"\"\"Calculate reads per kilobase transcript per million reads.\n",
    "\n",
    "    RPKM = (10^9 * C) / (N * L)\n",
    "\n",
    "    Where:\n",
    "    C = Number of reads mapped to a gene\n",
    "    N = Total mapped reads in the experiment\n",
    "    L = Exon length in base pairs for a gene\n",
    "\n",
    "    Parameters\n",
    "    ----------\n",
    "    counts: array, shape (N_genes, N_samples)\n",
    "        RNAseq (or similar) count data where columns are individual samples\n",
    "        and rows are genes.\n",
    "    lengths: array, shape (N_genes,)\n",
    "        Gene lengths in base pairs in the same order\n",
    "        as the rows in counts.\n",
    "\n",
    "    Returns\n",
    "    -------\n",
    "    normed : array, shape (N_genes, N_samples)\n",
    "        The RPKM normalized counts matrix.\n",
    "    \"\"\"\n",
    "    N = np.sum(counts, axis=0)  # sum each column to get total reads per sample\n",
    "    L = lengths\n",
    "    C = counts\n",
    "\n",
    "    normed = 1e9 * C / (N[np.newaxis, :] * L[:, np.newaxis])\n",
    "\n",
    "    return(normed)\n"
   ]
  },
  {
   "cell_type": "code",
   "execution_count": 10,
   "metadata": {
    "colab": {},
    "colab_type": "code",
    "id": "BXGKLjAQdExi"
   },
   "outputs": [],
   "source": [
    "gene = ensembl.gene_by_id('ENSMUSG00000025900')"
   ]
  },
  {
   "cell_type": "code",
   "execution_count": 11,
   "metadata": {
    "colab": {},
    "colab_type": "code",
    "id": "OLwUxz3UdExr"
   },
   "outputs": [],
   "source": [
    "tr_lengths = []\n",
    "for i in df_ids:\n",
    "  try:\n",
    "    gene = ensembl.gene_by_id(i)\n",
    "    start = gene.start\n",
    "    end = gene.end\n",
    "  except ValueError:\n",
    "    start = 0\n",
    "    end = 10000\n",
    "  tr_lengths.append(end-start)"
   ]
  },
  {
   "cell_type": "code",
   "execution_count": 12,
   "metadata": {
    "colab": {},
    "colab_type": "code",
    "id": "n70Md3M5dExw"
   },
   "outputs": [],
   "source": [
    "tr_lengths = np.asarray(tr_lengths)"
   ]
  },
  {
   "cell_type": "code",
   "execution_count": 13,
   "metadata": {
    "colab": {},
    "colab_type": "code",
    "id": "C7btZqCIdEx2"
   },
   "outputs": [],
   "source": [
    "df = df.drop('ESC_ens_id',axis=1)\n",
    "data = df.to_numpy()"
   ]
  },
  {
   "cell_type": "code",
   "execution_count": 14,
   "metadata": {
    "colab": {},
    "colab_type": "code",
    "id": "7ZxIzEnIdEx-"
   },
   "outputs": [],
   "source": [
    "norm_data = rpkm(data,tr_lengths)"
   ]
  },
  {
   "cell_type": "code",
   "execution_count": 15,
   "metadata": {
    "colab": {
     "base_uri": "https://localhost:8080/",
     "height": 34
    },
    "colab_type": "code",
    "id": "QzQ0XUlHdEyD",
    "outputId": "fb5c1f7f-a7ba-4955-f5a7-cfabeb237750"
   },
   "outputs": [
    {
     "data": {
      "text/plain": [
       "(15760, 80)"
      ]
     },
     "execution_count": 15,
     "metadata": {},
     "output_type": "execute_result"
    }
   ],
   "source": [
    "norm_data.shape"
   ]
  },
  {
   "cell_type": "markdown",
   "metadata": {},
   "source": [
    "# Filtering out cells and Genes"
   ]
  },
  {
   "cell_type": "code",
   "execution_count": 16,
   "metadata": {
    "colab": {},
    "colab_type": "code",
    "id": "nT7X8tDrdEyK"
   },
   "outputs": [],
   "source": [
    "from sklearn.feature_selection import VarianceThreshold"
   ]
  },
  {
   "cell_type": "markdown",
   "metadata": {},
   "source": [
    "## Cells"
   ]
  },
  {
   "cell_type": "code",
   "execution_count": 17,
   "metadata": {},
   "outputs": [
    {
     "data": {
      "text/plain": [
       "(15760, 66)"
      ]
     },
     "execution_count": 17,
     "metadata": {},
     "output_type": "execute_result"
    }
   ],
   "source": [
    "rem_cells = VarianceThreshold(threshold=(5000))\n",
    "norm_data = rem_cells.fit_transform(norm_data)\n",
    "norm_data.shape"
   ]
  },
  {
   "cell_type": "markdown",
   "metadata": {},
   "source": [
    "## Genes"
   ]
  },
  {
   "cell_type": "code",
   "execution_count": 18,
   "metadata": {
    "colab": {},
    "colab_type": "code",
    "id": "s4_4VLcldEyR"
   },
   "outputs": [],
   "source": [
    "norm_data = norm_data.T"
   ]
  },
  {
   "cell_type": "code",
   "execution_count": 19,
   "metadata": {
    "colab": {},
    "colab_type": "code",
    "id": "oHAir-uEdEyV"
   },
   "outputs": [],
   "source": [
    "select = VarianceThreshold(threshold=(250000))\n",
    "norm_data = select.fit_transform(norm_data)"
   ]
  },
  {
   "cell_type": "code",
   "execution_count": 20,
   "metadata": {
    "colab": {
     "base_uri": "https://localhost:8080/",
     "height": 34
    },
    "colab_type": "code",
    "id": "QlJQKsgCdEyb",
    "outputId": "4b396f65-1122-4ab6-d1f8-3d75ba43230c"
   },
   "outputs": [
    {
     "data": {
      "text/plain": [
       "(66, 27)"
      ]
     },
     "execution_count": 20,
     "metadata": {},
     "output_type": "execute_result"
    }
   ],
   "source": [
    "norm_data.shape"
   ]
  },
  {
   "cell_type": "code",
   "execution_count": 21,
   "metadata": {
    "colab": {
     "base_uri": "https://localhost:8080/",
     "height": 243
    },
    "colab_type": "code",
    "id": "q9PyGSpa1Yda",
    "outputId": "eb36f75f-cf69-4ce7-89d0-e446e1b5ea2f"
   },
   "outputs": [
    {
     "data": {
      "text/plain": [
       "array([[   0.        ,    0.        , 6601.59256819, ...,    0.        ,\n",
       "           0.        ,    0.        ],\n",
       "       [  19.85616615,   93.24527651,   13.97578371, ..., 1190.35761577,\n",
       "         143.85498497, 2475.40108205],\n",
       "       [  40.32270547,   47.54711823,   27.71399056, ..., 1327.94405835,\n",
       "         242.04265118, 1500.03974283],\n",
       "       ...,\n",
       "       [  31.52234447,   62.89369218,   32.60135866, ..., 2172.61766957,\n",
       "         302.52235667, 1596.82481547],\n",
       "       [  36.3820489 ,   55.12159375,   18.22006938, ..., 1528.19970536,\n",
       "         221.93977215, 1049.46492167],\n",
       "       [  49.99596788,   43.36032756,   45.7055923 , ..., 1160.0190096 ,\n",
       "         135.07400911,  962.07490844]])"
      ]
     },
     "execution_count": 21,
     "metadata": {},
     "output_type": "execute_result"
    }
   ],
   "source": [
    "norm_data"
   ]
  },
  {
   "cell_type": "code",
   "execution_count": 22,
   "metadata": {
    "colab": {},
    "colab_type": "code",
    "id": "FNmSku9JdEyg"
   },
   "outputs": [],
   "source": [
    "model = KMeans(n_clusters=4)"
   ]
  },
  {
   "cell_type": "code",
   "execution_count": 23,
   "metadata": {
    "colab": {
     "base_uri": "https://localhost:8080/",
     "height": 69
    },
    "colab_type": "code",
    "id": "OEn91IlKdEyj",
    "outputId": "8da11cb7-5e11-43d6-e4c8-9807d093b232"
   },
   "outputs": [
    {
     "data": {
      "text/plain": [
       "KMeans(algorithm='auto', copy_x=True, init='k-means++', max_iter=300,\n",
       "       n_clusters=4, n_init=10, n_jobs=None, precompute_distances='auto',\n",
       "       random_state=None, tol=0.0001, verbose=0)"
      ]
     },
     "execution_count": 23,
     "metadata": {},
     "output_type": "execute_result"
    }
   ],
   "source": [
    "model.fit(norm_data)"
   ]
  },
  {
   "cell_type": "code",
   "execution_count": 24,
   "metadata": {
    "colab": {},
    "colab_type": "code",
    "id": "45O3K0zZdEym"
   },
   "outputs": [],
   "source": [
    "labels = model.predict(norm_data)"
   ]
  },
  {
   "cell_type": "code",
   "execution_count": 25,
   "metadata": {
    "colab": {
     "base_uri": "https://localhost:8080/",
     "height": 69
    },
    "colab_type": "code",
    "id": "SxOJQvDXdEyu",
    "outputId": "de14711f-0e0e-4a5a-aa05-95840b5dce6e"
   },
   "outputs": [
    {
     "name": "stdout",
     "output_type": "stream",
     "text": [
      "[0 0 0 0 0 0 0 0 0 0 0 0 0 0 0 0 0 0 0 0 0 0 0 0 0 0 0 0 0 0 3 0 0 0 0 0 0\n",
      " 0 0 0 0 0 1 0 0 0 0 0 0 0 0 0 2 0 0 0 0 0 0 2 0 0 0 0 0 0]\n"
     ]
    }
   ],
   "source": [
    "print(labels)"
   ]
  },
  {
   "cell_type": "code",
   "execution_count": 26,
   "metadata": {
    "colab": {},
    "colab_type": "code",
    "id": "aHYoxe7gdEy0"
   },
   "outputs": [],
   "source": [
    "from sklearn.decomposition import PCA\n",
    "pca = PCA(n_components=2)\n",
    "plot_data = pca.fit_transform(norm_data)"
   ]
  },
  {
   "cell_type": "code",
   "execution_count": 27,
   "metadata": {
    "colab": {
     "base_uri": "https://localhost:8080/",
     "height": 285
    },
    "colab_type": "code",
    "id": "1FTtL9Se5UR6",
    "outputId": "7df6cfeb-e8e0-49b3-f4a7-38428cf50501"
   },
   "outputs": [
    {
     "data": {
      "text/plain": [
       "<matplotlib.collections.PathCollection at 0x7fe499725320>"
      ]
     },
     "execution_count": 27,
     "metadata": {},
     "output_type": "execute_result"
    },
    {
     "data": {
      "image/png": "[encoded data removed]",
      "text/plain": [
       "<Figure size 1440x720 with 1 Axes>"
      ]
     },
     "metadata": {
      "needs_background": "light"
     },
     "output_type": "display_data"
    }
   ],
   "source": [
    "plt.figure(figsize=(20,10))\n",
    "plt.scatter(plot_data[:,0],plot_data[:,1],c = labels)"
   ]
  },
  {
   "cell_type": "markdown",
   "metadata": {},
   "source": [
    "# Genes with Highest Variance"
   ]
  },
  {
   "cell_type": "code",
   "execution_count": 28,
   "metadata": {},
   "outputs": [],
   "source": [
    "indices = select.get_support(indices=True)\n",
    "genes = []\n",
    "for i in indices:\n",
    "  genes.append(df_ids[i])"
   ]
  },
  {
   "cell_type": "code",
   "execution_count": 36,
   "metadata": {},
   "outputs": [
    {
     "data": {
      "text/plain": [
       "['ENSMUSG00000061024',\n",
       " 'ENSMUSG00000068882',\n",
       " 'ENSMUSG00000075014',\n",
       " 'ENSMUSG00000090733',\n",
       " 'ENSMUSG00000037894',\n",
       " 'ENSMUSG00000029580',\n",
       " 'ENSMUSG00000025492',\n",
       " 'ENSMUSG00000033307',\n",
       " 'ENSMUSG00000093674',\n",
       " 'ENSMUSG00000031762',\n",
       " 'ENSMUSG00000031765',\n",
       " 'ENSMUSG00000060143',\n",
       " 'ENSMUSG00000060461',\n",
       " 'ENSMUSG00000019132',\n",
       " 'ENSMUSG00000021520',\n",
       " 'ENSMUSG00000021270',\n",
       " 'ENSMUSG00000073640',\n",
       " 'ENSMUSG00000064341',\n",
       " 'ENSMUSG00000064345',\n",
       " 'ENSMUSG00000064351',\n",
       " 'ENSMUSG00000064354',\n",
       " 'ENSMUSG00000064357',\n",
       " 'ENSMUSG00000064358',\n",
       " 'ENSMUSG00000064363',\n",
       " 'ENSMUSG00000064367',\n",
       " 'ENSMUSG00000064368',\n",
       " 'ENSMUSG00000064370']"
      ]
     },
     "execution_count": 36,
     "metadata": {},
     "output_type": "execute_result"
    }
   ],
   "source": [
    "genes"
   ]
  },
  {
   "cell_type": "code",
   "execution_count": 40,
   "metadata": {},
   "outputs": [
    {
     "data": {
      "text/plain": [
       "['Rrs1',\n",
       " 'Ssb',\n",
       " 'Gm10800',\n",
       " 'Rps27',\n",
       " 'H2az1',\n",
       " 'Actb',\n",
       " 'Ifitm3',\n",
       " 'Mif',\n",
       " 'Rpl41',\n",
       " 'Mt2',\n",
       " 'Mt1',\n",
       " 'Gm10076',\n",
       " 'Dppa5a',\n",
       " 'BC005537',\n",
       " 'Uqcrb',\n",
       " 'Hsp90aa1',\n",
       " 'Rpl27-ps3',\n",
       " 'mt-Nd1',\n",
       " 'mt-Nd2',\n",
       " 'mt-Co1',\n",
       " 'mt-Co2',\n",
       " 'mt-Atp6',\n",
       " 'mt-Co3',\n",
       " 'mt-Nd4',\n",
       " 'mt-Nd5',\n",
       " 'mt-Nd6',\n",
       " 'mt-Cytb']"
      ]
     },
     "execution_count": 40,
     "metadata": {},
     "output_type": "execute_result"
    }
   ],
   "source": [
    "gene_names = []\n",
    "for gene in genes:\n",
    "    gene_names.append(ensembl.gene_name_of_gene_id(gene))\n",
    "\n",
    "gene_names"
   ]
  },
  {
   "cell_type": "markdown",
   "metadata": {},
   "source": [
    "# TSNE"
   ]
  },
  {
   "cell_type": "code",
   "execution_count": 29,
   "metadata": {},
   "outputs": [],
   "source": [
    "from sklearn.manifold import TSNE"
   ]
  },
  {
   "cell_type": "code",
   "execution_count": 30,
   "metadata": {},
   "outputs": [
    {
     "name": "stdout",
     "output_type": "stream",
     "text": [
      "[t-SNE] Computing 65 nearest neighbors...\n",
      "[t-SNE] Indexed 66 samples in 0.000s...\n",
      "[t-SNE] Computed neighbors for 66 samples in 0.002s...\n",
      "[t-SNE] Computed conditional probabilities for sample 66 / 66\n",
      "[t-SNE] Mean sigma: 1771.582414\n",
      "[t-SNE] KL divergence after 250 iterations with early exaggeration: 48.865757\n",
      "[t-SNE] KL divergence after 300 iterations: 0.837238\n"
     ]
    }
   ],
   "source": [
    "tsne = TSNE(n_components=2, verbose=1, perplexity=40, n_iter=300)\n",
    "tsne_results = tsne.fit_transform(norm_data)"
   ]
  },
  {
   "cell_type": "code",
   "execution_count": 31,
   "metadata": {},
   "outputs": [
    {
     "data": {
      "text/plain": [
       "<matplotlib.collections.PathCollection at 0x7fe4996ba470>"
      ]
     },
     "execution_count": 31,
     "metadata": {},
     "output_type": "execute_result"
    },
    {
     "data": {
      "image/png": "[encoded data removed]",
      "text/plain": [
       "<Figure size 1440x720 with 1 Axes>"
      ]
     },
     "metadata": {
      "needs_background": "light"
     },
     "output_type": "display_data"
    }
   ],
   "source": [
    "plt.figure(figsize=(20,10))\n",
    "plt.scatter(tsne_results[:,0],tsne_results[:,1],c = labels)"
   ]
  },
  {
   "cell_type": "code",
   "execution_count": 32,
   "metadata": {
    "colab": {},
    "colab_type": "code",
    "id": "LHDuG0qTdEy4",
    "outputId": "f53f750e-000f-4c88-9eeb-09b81a0cfe5c"
   },
   "outputs": [
    {
     "data": {
      "text/plain": [
       "array([    0,     1,     2, ..., 15757, 15758, 15759])"
      ]
     },
     "execution_count": 32,
     "metadata": {},
     "output_type": "execute_result"
    }
   ],
   "source": [
    "name_cells_unformatted = df.T.columns.values\n",
    "name_cells_unformatted"
   ]
  },
  {
   "cell_type": "code",
   "execution_count": 33,
   "metadata": {
    "colab": {},
    "colab_type": "code",
    "id": "T6pugSR1dEy-",
    "outputId": "443b24c2-8ede-4dc8-9dbe-4bcefc86b6ff"
   },
   "outputs": [
    {
     "data": {
      "text/plain": [
       "array([    1,     2,     3, ..., 15757, 15758, 15759])"
      ]
     },
     "execution_count": 33,
     "metadata": {},
     "output_type": "execute_result"
    }
   ],
   "source": [
    "name_cells = name_cells_unformatted[1:]\n",
    "name_cells"
   ]
  },
  {
   "cell_type": "code",
   "execution_count": 34,
   "metadata": {
    "colab": {},
    "colab_type": "code",
    "id": "BAQ0ybFQdEzC"
   },
   "outputs": [],
   "source": [
    "labelled_cluster = dict(zip(name_cells, labels))"
   ]
  },
  {
   "cell_type": "markdown",
   "metadata": {
    "colab_type": "text",
    "id": "TZWFfnmmdEzG"
   },
   "source": [
    "# The Final Clusters"
   ]
  },
  {
   "cell_type": "code",
   "execution_count": 35,
   "metadata": {
    "colab": {},
    "colab_type": "code",
    "id": "2CJhqNbfdEzI",
    "outputId": "7e14dcc1-461b-410a-f2ed-97a006e95643"
   },
   "outputs": [
    {
     "name": "stdout",
     "output_type": "stream",
     "text": [
      "Cluster 0:\n",
      "1\n",
      "2\n",
      "3\n",
      "4\n",
      "5\n",
      "6\n",
      "7\n",
      "8\n",
      "9\n",
      "10\n",
      "11\n",
      "12\n",
      "13\n",
      "14\n",
      "15\n",
      "16\n",
      "17\n",
      "18\n",
      "19\n",
      "20\n",
      "21\n",
      "22\n",
      "23\n",
      "24\n",
      "25\n",
      "26\n",
      "27\n",
      "28\n",
      "29\n",
      "30\n",
      "32\n",
      "33\n",
      "34\n",
      "35\n",
      "36\n",
      "37\n",
      "38\n",
      "39\n",
      "40\n",
      "41\n",
      "42\n",
      "44\n",
      "45\n",
      "46\n",
      "47\n",
      "48\n",
      "49\n",
      "50\n",
      "51\n",
      "52\n",
      "54\n",
      "55\n",
      "56\n",
      "57\n",
      "58\n",
      "59\n",
      "61\n",
      "62\n",
      "63\n",
      "64\n",
      "65\n",
      "66\n",
      "Cluster 1:\n",
      "43\n",
      "Cluster 2:\n",
      "53\n",
      "60\n",
      "Cluster 3:\n",
      "31\n"
     ]
    }
   ],
   "source": [
    "i = 0\n",
    "for i in range(4):\n",
    "    print(\"Cluster \" + str(i) + \":\")\n",
    "    for cell, cluster in labelled_cluster.items():\n",
    "        if cluster == i:\n",
    "            print(cell)\n",
    "    i += 1"
   ]
  },
  {
   "cell_type": "code",
   "execution_count": null,
   "metadata": {},
   "outputs": [],
   "source": []
  }
 ],
 "metadata": {
  "colab": {
   "name": "KMeans.ipynb",
   "provenance": [],
   "toc_visible": true
  },
  "kernelspec": {
   "display_name": "Python 3",
   "language": "python",
   "name": "python3"
  },
  "language_info": {
   "codemirror_mode": {
    "name": "ipython",
    "version": 3
   },
   "file_extension": ".py",
   "mimetype": "text/x-python",
   "name": "python",
   "nbconvert_exporter": "python",
   "pygments_lexer": "ipython3",
   "version": "3.7.3"
  }
 },
 "nbformat": 4,
 "nbformat_minor": 4
}
